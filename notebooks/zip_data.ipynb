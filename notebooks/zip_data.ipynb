{
 "cells": [
  {
   "cell_type": "markdown",
   "id": "fcaa91df-0fd6-4b9f-8ba6-10e079c03291",
   "metadata": {},
   "source": [
    "# Introduction\n",
    "\n",
    "The listing files for 2020-07-14 and 2020-05-09 had issues and were redistributed by William So (lecturer). However, the files are in csv format. The pipeline was built to accept only .gz files. So these two files will be compressed."
   ]
  },
  {
   "cell_type": "code",
   "execution_count": 1,
   "id": "04f0b215-259a-44c3-a5de-2aef8866b55e",
   "metadata": {
    "execution": {
     "iopub.execute_input": "2021-05-20T00:12:19.707177Z",
     "iopub.status.busy": "2021-05-20T00:12:19.706800Z",
     "iopub.status.idle": "2021-05-20T00:12:19.727784Z",
     "shell.execute_reply": "2021-05-20T00:12:19.726821Z",
     "shell.execute_reply.started": "2021-05-20T00:12:19.707051Z"
    },
    "tags": []
   },
   "outputs": [],
   "source": [
    "%load_ext autoreload\n",
    "%autoreload 2"
   ]
  },
  {
   "cell_type": "code",
   "execution_count": 16,
   "id": "fa631622-67e1-4f32-81e9-42e539ad93a6",
   "metadata": {
    "execution": {
     "iopub.execute_input": "2021-05-20T01:06:58.833246Z",
     "iopub.status.busy": "2021-05-20T01:06:58.832989Z",
     "iopub.status.idle": "2021-05-20T01:06:58.868689Z",
     "shell.execute_reply": "2021-05-20T01:06:58.867672Z",
     "shell.execute_reply.started": "2021-05-20T01:06:58.833220Z"
    },
    "tags": []
   },
   "outputs": [],
   "source": [
    "from datetime import (\n",
    "    datetime,\n",
    "    timedelta\n",
    ")\n",
    "from dateutil.relativedelta import relativedelta\n",
    "import sqlalchemy as sa\n",
    "import os\n",
    "import gzip\n",
    "import csv"
   ]
  },
  {
   "cell_type": "code",
   "execution_count": 3,
   "id": "bf256dd3-ec6d-4d1d-8f38-175acbc83dfc",
   "metadata": {
    "execution": {
     "iopub.execute_input": "2021-05-20T00:12:21.536193Z",
     "iopub.status.busy": "2021-05-20T00:12:21.535919Z",
     "iopub.status.idle": "2021-05-20T00:12:21.579081Z",
     "shell.execute_reply": "2021-05-20T00:12:21.578138Z",
     "shell.execute_reply.started": "2021-05-20T00:12:21.536166Z"
    },
    "tags": []
   },
   "outputs": [],
   "source": [
    "load_dotenv(find_dotenv())\n",
    "\n",
    "project_dir = Path(find_dotenv()).parent\n",
    "data_dir = project_dir / 'data'\n",
    "raw_data_dir = data_dir / 'raw'\n",
    "interim_data_dir = data_dir / 'interim'\n",
    "reports_dir = project_dir / 'reports'\n",
    "references_dir = project_dir / 'references'"
   ]
  },
  {
   "cell_type": "code",
   "execution_count": 4,
   "id": "27210fc4-3d50-4555-aa01-d17f0ff9aade",
   "metadata": {
    "execution": {
     "iopub.execute_input": "2021-05-20T00:12:21.580680Z",
     "iopub.status.busy": "2021-05-20T00:12:21.580472Z",
     "iopub.status.idle": "2021-05-20T00:12:21.611545Z",
     "shell.execute_reply": "2021-05-20T00:12:21.610579Z",
     "shell.execute_reply.started": "2021-05-20T00:12:21.580656Z"
    },
    "tags": []
   },
   "outputs": [],
   "source": [
    "pd.set_option('display.max_columns', 100)"
   ]
  },
  {
   "cell_type": "markdown",
   "id": "3b9937b9-46b6-432d-8699-d28e20f184b4",
   "metadata": {
    "execution": {
     "iopub.execute_input": "2021-05-07T00:35:31.312312Z",
     "iopub.status.busy": "2021-05-07T00:35:31.311317Z",
     "iopub.status.idle": "2021-05-07T00:35:31.339516Z",
     "shell.execute_reply": "2021-05-07T00:35:31.336565Z",
     "shell.execute_reply.started": "2021-05-07T00:35:31.312312Z"
    }
   },
   "source": [
    "# Load data"
   ]
  },
  {
   "cell_type": "code",
   "execution_count": 9,
   "id": "b1ecd461-44d0-4527-9817-402ce21f3e4f",
   "metadata": {
    "execution": {
     "iopub.execute_input": "2021-05-20T00:15:33.512781Z",
     "iopub.status.busy": "2021-05-20T00:15:33.512495Z",
     "iopub.status.idle": "2021-05-20T00:15:49.405054Z",
     "shell.execute_reply": "2021-05-20T00:15:49.402732Z",
     "shell.execute_reply.started": "2021-05-20T00:15:33.512756Z"
    },
    "tags": []
   },
   "outputs": [
    {
     "data": {
      "text/html": [
       "<pre style=\"white-space:pre;overflow-x:auto;line-height:normal;font-family:Menlo,'DejaVu Sans Mono',consolas,'Courier New',monospace\"><span style=\"color: #808000; font-weight: bold\">/opt/conda/lib/python3.8/site-packages/IPython/core/interactiveshell.py:</span><span style=\"color: #808000; font-weight: bold\">3169</span><span style=\"color: #808000; font-weight: bold\"> DtypeWarning</span><span style=\"color: #808000\">: Columns </span><span style=\"color: #808000; font-weight: bold\">(</span><span style=\"color: #808000; font-weight: bold\">43</span><span style=\"color: #808000\">,</span><span style=\"color: #808000; font-weight: bold\">61</span><span style=\"color: #808000\">,</span><span style=\"color: #808000; font-weight: bold\">62</span><span style=\"color: #808000\">,</span><span style=\"color: #808000; font-weight: bold\">94</span><span style=\"color: #808000; font-weight: bold\">)</span><span style=\"color: #808000\"> have mixed types.Specify dtype option on import or set </span><span style=\"color: #808000\">low_memory</span><span style=\"color: #808000\">=</span><span style=\"color: #808000; font-style: italic\">False</span><span style=\"color: #808000\">.</span>\n",
       "</pre>\n"
      ],
      "text/plain": [
       "<rich.jupyter.JupyterRenderable at 0x7f8fe21dbee0>"
      ]
     },
     "metadata": {},
     "output_type": "display_data"
    }
   ],
   "source": [
    "path = raw_data_dir / '2020-05-09'\n",
    "pd.read_csv(path.with_suffix('.csv')).to_csv(path.with_suffix('.gz'), compression='gzip')"
   ]
  },
  {
   "cell_type": "code",
   "execution_count": 10,
   "id": "8f372787-f3b6-453c-8724-1951300a37e2",
   "metadata": {
    "execution": {
     "iopub.execute_input": "2021-05-20T00:16:06.713872Z",
     "iopub.status.busy": "2021-05-20T00:16:06.713602Z",
     "iopub.status.idle": "2021-05-20T00:16:21.650850Z",
     "shell.execute_reply": "2021-05-20T00:16:21.649971Z",
     "shell.execute_reply.started": "2021-05-20T00:16:06.713845Z"
    },
    "tags": []
   },
   "outputs": [
    {
     "data": {
      "text/html": [
       "<pre style=\"white-space:pre;overflow-x:auto;line-height:normal;font-family:Menlo,'DejaVu Sans Mono',consolas,'Courier New',monospace\"><span style=\"color: #808000; font-weight: bold\">/opt/conda/lib/python3.8/site-packages/IPython/core/interactiveshell.py:</span><span style=\"color: #808000; font-weight: bold\">3169</span><span style=\"color: #808000; font-weight: bold\"> DtypeWarning</span><span style=\"color: #808000\">: Columns </span><span style=\"color: #808000; font-weight: bold\">(</span><span style=\"color: #808000; font-weight: bold\">49</span><span style=\"color: #808000\">,</span><span style=\"color: #808000; font-weight: bold\">58</span><span style=\"color: #808000\">,</span><span style=\"color: #808000; font-weight: bold\">59</span><span style=\"color: #808000\">,</span><span style=\"color: #808000; font-weight: bold\">89</span><span style=\"color: #808000; font-weight: bold\">)</span><span style=\"color: #808000\"> have mixed types.Specify dtype option on import or set </span><span style=\"color: #808000\">low_memory</span><span style=\"color: #808000\">=</span><span style=\"color: #808000; font-style: italic\">False</span><span style=\"color: #808000\">.</span>\n",
       "</pre>\n"
      ],
      "text/plain": [
       "<rich.jupyter.JupyterRenderable at 0x7f90642d5700>"
      ]
     },
     "metadata": {},
     "output_type": "display_data"
    }
   ],
   "source": [
    "path = raw_data_dir / '2020-07-14'\n",
    "pd.read_csv(path.with_suffix('.csv')).to_csv(path.with_suffix('.gz'), compression='gzip')"
   ]
  },
  {
   "cell_type": "code",
   "execution_count": null,
   "id": "d3694768-04fb-45b7-8234-6a154c43d869",
   "metadata": {},
   "outputs": [],
   "source": []
  },
  {
   "cell_type": "code",
   "execution_count": 17,
   "id": "728f7042-a816-410b-bb60-cbad305ec5f9",
   "metadata": {
    "execution": {
     "iopub.execute_input": "2021-05-20T01:07:01.496845Z",
     "iopub.status.busy": "2021-05-20T01:07:01.496586Z",
     "iopub.status.idle": "2021-05-20T01:07:01.531406Z",
     "shell.execute_reply": "2021-05-20T01:07:01.530257Z",
     "shell.execute_reply.started": "2021-05-20T01:07:01.496819Z"
    },
    "tags": []
   },
   "outputs": [
    {
     "data": {
      "text/plain": [
       "datetime.datetime(2021, 2, 20, 1, 7, 1, 525938)"
      ]
     },
     "execution_count": 17,
     "metadata": {},
     "output_type": "execute_result"
    }
   ],
   "source": [
    "#\n",
    "{'conf': <airflow.configuration.AirflowConfigParser object at 0x7f71edc93860>, \n",
    "'dag': <DAG: test_load_multiple_listing_tables>, \n",
    "'dag_run': <DagRun test_load_multiple_listing_tables @ 2021-03-01 00:00:00+00:00: scheduled__2021-03-01T00:00:00+00:00, externally triggered: False>, \n",
    "'ds': '2021-03-01', \n",
    "'ds_nodash': '20210301', \n",
    "'execution_date': DateTime(2021, 3, 1, 0, 0, 0, tzinfo=Timezone('+00:00')), \n",
    "'inlets': [], \n",
    "'macros': <module 'airflow.macros' from '/home/airflow/.local/lib/python3.6/site-packages/airflow/macros/__init__.py'>, \n",
    "'next_ds': '2021-04-01', 'next_ds_nodash': '20210401',\n",
    "'next_execution_date': DateTime(2021, 4, 1, 0, 0, 0, tzinfo=Timezone('UTC')), \n",
    "'outlets': [],\n",
    "'params': {}, \n",
    "'prev_ds': '2021-02-01',\n",
    "'prev_ds_nodash': '20210201', \n",
    "'prev_execution_date': DateTime(2021, 2, 1, 0, 0, 0, tzinfo=Timezone('UTC')), \n",
    "'prev_execution_date_success': <Proxy at 0x7f71822e7c88 with factory <function TaskInstance.get_template_context.<locals>.<lambda> at 0x7f7181c52f28>>, \n",
    "'prev_start_date_success': <Proxy at 0x7f71822e7f88 with factory <function TaskInstance.get_template_context.<locals>.<lambda> at 0x7f71822fa6a8>>, \n",
    "'run_id': 'scheduled__2021-03-01T00:00:00+00:00',\n",
    "'task': <Task(PythonOperator): load_from_file>, \n",
    "'task_instance': <TaskInstance: test_load_multiple_listing_tables.load_from_file 2021-03-01T00:00:00+00:00 [running]>, \n",
    "'task_instance_key_str': 'test_load_multiple_listing_tables__load_from_file__20210301',\n",
    "'test_mode': False, 'ti': <TaskInstance: test_load_multiple_listing_tables.load_from_file 2021-03-01T00:00:00+00:00 [running]>, \n",
    "'tomorrow_ds': '2021-03-02', \n",
    "'tomorrow_ds_nodash': '20210302', \n",
    "'ts': '2021-03-01T00:00:00+00:00',\n",
    "'ts_nodash': '20210301T000000',\n",
    "'ts_nodash_with_tz': '20210301T000000+0000',\n",
    "'var': {'json': None, 'value': None},\n",
    "'yesterday_ds': '2021-02-28',\n",
    "'yesterday_ds_nodash': '20210228', \n",
    "'templates_dict': None}"
   ]
  }
 ],
 "metadata": {
  "kernelspec": {
   "display_name": "Python 3",
   "language": "python",
   "name": "python3"
  },
  "language_info": {
   "codemirror_mode": {
    "name": "ipython",
    "version": 3
   },
   "file_extension": ".py",
   "mimetype": "text/x-python",
   "name": "python",
   "nbconvert_exporter": "python",
   "pygments_lexer": "ipython3",
   "version": "3.8.8"
  },
  "toc-autonumbering": true
 },
 "nbformat": 4,
 "nbformat_minor": 5
}
